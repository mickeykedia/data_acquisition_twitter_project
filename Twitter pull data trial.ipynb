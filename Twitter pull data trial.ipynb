{
 "cells": [
  {
   "cell_type": "code",
   "execution_count": 2,
   "metadata": {
    "collapsed": true
   },
   "outputs": [],
   "source": [
    "from tweepy import Stream\n",
    "from tweepy import OAuthHandler\n",
    "from tweepy.streaming import StreamListener"
   ]
  },
  {
   "cell_type": "code",
   "execution_count": 6,
   "metadata": {
    "collapsed": true
   },
   "outputs": [],
   "source": [
    "ckey = ''\n",
    "csecret = ''\n",
    "akey = ''\n",
    "asecret = ''"
   ]
  },
  {
   "cell_type": "code",
   "execution_count": 7,
   "metadata": {
    "collapsed": false
   },
   "outputs": [],
   "source": [
    "auth = tweepy.OAuthHandler(ckey, csecret)\n",
    "auth.set_access_token(akey, asecret)"
   ]
  },
  {
   "cell_type": "code",
   "execution_count": 8,
   "metadata": {
    "collapsed": true
   },
   "outputs": [],
   "source": [
    "api = tweepy.API(auth)"
   ]
  },
  {
   "cell_type": "code",
   "execution_count": 16,
   "metadata": {
    "collapsed": false
   },
   "outputs": [
    {
     "name": "stdout",
     "output_type": "stream",
     "text": [
      "RT @nytimestheater: \"Dames at Sea\" is more than pleased to embrace the past as it comes to Broadway http://t.co/YPvn9vqf6U http://t.co/NiU5…\n",
      "New York Times Arts\n",
      "4\n",
      "\n",
      "\n",
      "Stars burn clear all night. Do that yourself, and a spring will rise in the dark with water your deepest thirst is for.\n",
      "Rumi\n",
      "6\n",
      "\n",
      "\n",
      "Two-hour wait at NY-JFK because Shepherd-1 (Pope) is to land! Will never complain abt half-hour delays back home for \"VVIP movement\"\n",
      "Shekhar Gupta\n",
      "11\n",
      "\n",
      "\n",
      "Pool Party http://t.co/qnJmAvfLCp\n",
      "Fascinating Pictures\n",
      "169\n",
      "\n",
      "\n",
      "Peace, peace!\n",
      "William Shakespeare\n",
      "16\n",
      "\n",
      "\n",
      "Wherever you stand, be the soul of that place.\n",
      "Rumi\n",
      "14\n",
      "\n",
      "\n",
      "North Carolina's anti-bullying law violates the First Amendment https://t.co/HW2XsbtS7x\n",
      "EFF\n",
      "19\n",
      "\n",
      "\n",
      "Maison Laurent, 198 rue Vaugirard, Paris. http://t.co/tSMKPc1hWg\n",
      "Old Pics Archive\n",
      "35\n",
      "\n",
      "\n",
      "Diego Maradona &amp; Queen, 1981. http://t.co/YqUBkbGf90\n",
      "Old Pics Archive\n",
      "84\n",
      "\n",
      "\n",
      "RT @erikpiepenburg: My advice on what to do this weekend? Nerd out with #coffee geeks at the @NYCoffeeFest http://t.co/hFshx2O6F0\n",
      "New York Times Arts\n",
      "1\n",
      "\n",
      "\n",
      "Signing, yes. Singing, probably not.  https://t.co/TCWsJRoXsK\n",
      "Salman Rushdie\n",
      "11\n",
      "\n",
      "\n",
      "Disturbing reminder of how important library privacy is: UK student accused of terrorism—after reading a textbook. https://t.co/mcxCAQtSDW\n",
      "EFF\n",
      "77\n",
      "\n",
      "\n",
      "A German civilian looks at a newly placed poster of Stalin on the Unter-den-Linden in Berlin, 1945. http://t.co/kF7u8QcwLM\n",
      "Classic Pics\n",
      "3\n",
      "\n",
      "\n",
      "He had lost confidence in his ability to give outward expression to love at the appropriate time and in the appropriate manner.\n",
      ".\n",
      "43\n",
      "\n",
      "\n",
      "Bertha Benz driving the Benz Patent-Motorwagen, c. 1886 http://t.co/4edVcLQJEe\n",
      "Old Pics Archive\n",
      "58\n",
      "\n",
      "\n",
      "Cosby seeking to keep his deposition private in case involving accusations of sexual assault http://t.co/pZ89WKfZE5 http://t.co/5VoIj5E20S\n",
      "New York Times Arts\n",
      "8\n",
      "\n",
      "\n",
      "“Among the women a man meets in his life, there are only three who have real meaning for him. No more, no less.”\n",
      ".\n",
      "28\n",
      "\n",
      "\n",
      "How to Make Sure Your Film Gets a Theatrical Release http://t.co/fghMl8KCqt @ifpfilm #filmweek http://t.co/wgmPAHOVlX\n",
      "No Film School\n",
      "9\n",
      "\n",
      "\n",
      "It's, National, Punctuation, Day? Who, the, fuck, knew?\n",
      "Stephen King\n",
      "1889\n",
      "\n",
      "\n",
      "RT @nytimes: The evolutionary science behind stinky cheese http://t.co/d4JQg0N8o1 http://t.co/3m34Pwdyaq\n",
      "Don't Panik\n",
      "105\n",
      "\n",
      "\n"
     ]
    }
   ],
   "source": [
    "public_tweets = api.home_timeline()\n",
    "for tweet in public_tweets:\n",
    "    print tweet.text\n",
    "    print tweet.author.name\n",
    "    print tweet.retweet_count\n",
    "    print tweet.\n",
    "    print \"\\n\""
   ]
  },
  {
   "cell_type": "code",
   "execution_count": 17,
   "metadata": {
    "collapsed": false
   },
   "outputs": [
    {
     "name": "stdout",
     "output_type": "stream",
     "text": [
      "User screen name -  BillGates\n",
      "\n",
      "User followers count -  24771332 \n",
      "\n"
     ]
    }
   ],
   "source": [
    "user = api.get_user('BillGates')\n",
    "print \"User screen name - \", user.screen_name\n",
    "print \"\\nUser followers count - \", user.followers_count, \"\\n\""
   ]
  },
  {
   "cell_type": "code",
   "execution_count": 18,
   "metadata": {
    "collapsed": false
   },
   "outputs": [
    {
     "name": "stdout",
     "output_type": "stream",
     "text": [
      "IHME_UW\n",
      "PatrickMcGee_\n",
      "BillNye\n",
      "narendramodi\n",
      "SueDHellmann\n",
      "larrybrilliant\n",
      "AIDSVaccine\n",
      "DFID_Research\n",
      "globlhealth2035\n",
      "satyanadella\n",
      "SteveDavisPATH\n",
      "WIRED\n",
      "Cmdr_Hadfield\n",
      "Graphite\n",
      "HillaryClinton\n",
      "Alwaleed_Talal\n",
      "NASciences\n",
      "MilkenInstitute\n",
      "tonyblairoffice\n",
      "WarrenBuffett\n"
     ]
    }
   ],
   "source": [
    "for friend in user.friends():                                               # People Followed\n",
    "    print friend.screen_name\n"
   ]
  },
  {
   "cell_type": "code",
   "execution_count": 19,
   "metadata": {
    "collapsed": true
   },
   "outputs": [],
   "source": []
  },
  {
   "cell_type": "code",
   "execution_count": null,
   "metadata": {
    "collapsed": true
   },
   "outputs": [],
   "source": []
  },
  {
   "cell_type": "code",
   "execution_count": null,
   "metadata": {
    "collapsed": true
   },
   "outputs": [],
   "source": []
  },
  {
   "cell_type": "code",
   "execution_count": null,
   "metadata": {
    "collapsed": true
   },
   "outputs": [],
   "source": []
  },
  {
   "cell_type": "code",
   "execution_count": null,
   "metadata": {
    "collapsed": true
   },
   "outputs": [],
   "source": []
  },
  {
   "cell_type": "code",
   "execution_count": null,
   "metadata": {
    "collapsed": true
   },
   "outputs": [],
   "source": []
  }
 ],
 "metadata": {
  "kernelspec": {
   "display_name": "Python 2",
   "language": "python",
   "name": "python2"
  },
  "language_info": {
   "codemirror_mode": {
    "name": "ipython",
    "version": 2
   },
   "file_extension": ".py",
   "mimetype": "text/x-python",
   "name": "python",
   "nbconvert_exporter": "python",
   "pygments_lexer": "ipython2",
   "version": "2.7.10"
  }
 },
 "nbformat": 4,
 "nbformat_minor": 0
}
